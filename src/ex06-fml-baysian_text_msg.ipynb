{
 "cells": [
  {
   "cell_type": "code",
   "execution_count": 1,
   "metadata": {},
   "outputs": [],
   "source": [
    "#import tools\n",
    "\n",
    "import pandas as pd\n",
    "from sklearn.feature_extraction.text import CountVectorizer\n",
    "from sklearn.naive_bayes import MultinomialNB\n",
    "from sklearn.model_selection import cross_val_predict\n",
    "from sklearn.metrics import accuracy_score,confusion_matrix,classification_report"
   ]
  },
  {
   "cell_type": "code",
   "execution_count": 2,
   "metadata": {},
   "outputs": [
    {
     "name": "stdout",
     "output_type": "stream",
     "text": [
      "1000\n"
     ]
    }
   ],
   "source": [
    "#load data\n",
    "\n",
    "datasets = pd.read_csv(\"../datasets/amazon_cells_labelled.txt\",sep='\\t',header = None)\n",
    "\n",
    "print(len(datasets))"
   ]
  },
  {
   "cell_type": "code",
   "execution_count": 3,
   "metadata": {},
   "outputs": [],
   "source": [
    "#numpy data\n",
    "sentences = datasets.values[:,0]\n",
    "labels = datasets.values[:,1]\n",
    "\n",
    "#print(sentences)\n",
    "#print(labels)\n"
   ]
  },
  {
   "cell_type": "code",
   "execution_count": 4,
   "metadata": {},
   "outputs": [],
   "source": [
    "#convert to lists\n",
    "X= []\n",
    "y = []\n",
    "\n",
    "for i in range(len(sentences)):\n",
    "    X.append(sentences[i])\n",
    "    y.append(labels[i])\n",
    "\n",
    "#print(X)\n",
    "#print(len(X))\n",
    "#print(y)"
   ]
  },
  {
   "cell_type": "code",
   "execution_count": 5,
   "metadata": {},
   "outputs": [],
   "source": [
    "#Countvectorizer\n",
    "cv = CountVectorizer(analyzer='word',ngram_range=(1,3))\n",
    "X_t = cv.fit_transform(X)"
   ]
  },
  {
   "cell_type": "code",
   "execution_count": 6,
   "metadata": {},
   "outputs": [
    {
     "name": "stdout",
     "output_type": "stream",
     "text": [
      "shape : (1000, 15088)\n",
      "number of attributes : 15088\n"
     ]
    }
   ],
   "source": [
    "#show map data\n",
    "\n",
    "#print(cv.get_feature_names())\n",
    "#print(X_t.toarray())\n",
    "print(f'shape : {X_t.toarray().shape}')\n",
    "print(f'number of attributes : {len(cv.vocabulary_)}')"
   ]
  },
  {
   "cell_type": "code",
   "execution_count": 7,
   "metadata": {},
   "outputs": [],
   "source": [
    "#training \n",
    "clf = MultinomialNB()\n",
    "y_predict = cross_val_predict(clf,X_t,y,cv=3)"
   ]
  },
  {
   "cell_type": "code",
   "execution_count": 8,
   "metadata": {},
   "outputs": [
    {
     "name": "stdout",
     "output_type": "stream",
     "text": [
      "accuracy score: 0.789\n",
      "\n",
      "confusion matrix:\n",
      " [[359 141]\n",
      " [ 70 430]]\n",
      "\n",
      "classification report:\n",
      "               precision    recall  f1-score   support\n",
      "\n",
      "           0       0.84      0.72      0.77       500\n",
      "           1       0.75      0.86      0.80       500\n",
      "\n",
      "    accuracy                           0.79      1000\n",
      "   macro avg       0.79      0.79      0.79      1000\n",
      "weighted avg       0.79      0.79      0.79      1000\n",
      "\n"
     ]
    }
   ],
   "source": [
    "#evaluate\n",
    "print(f'accuracy score: {accuracy_score(y,y_predict)}')\n",
    "print(f'\\nconfusion matrix:\\n {confusion_matrix(y,y_predict)}')\n",
    "print(f'\\nclassification report:\\n {classification_report(y,y_predict)}')"
   ]
  },
  {
   "cell_type": "code",
   "execution_count": 11,
   "metadata": {},
   "outputs": [
    {
     "name": "stdout",
     "output_type": "stream",
     "text": [
      "predict class : [1]\n",
      "predict prob : [[0.17255798 0.82744202]]\n",
      "good is a position comment\n"
     ]
    }
   ],
   "source": [
    "#prob\n",
    "clf.fit(X_t,y)\n",
    "\n",
    "msg = input(\"comment here\")\n",
    "list_msg = [msg]\n",
    "list_msg_t = cv.transform(list_msg)\n",
    "\n",
    "pred = clf.predict(list_msg_t)\n",
    "pred_prob = clf.predict_proba(list_msg_t)\n",
    "\n",
    "print(f'predict class : {pred}')\n",
    "print(f'predict prob : {pred_prob}')\n",
    "if(pred == 0):\n",
    "    print(f'{msg} is a negative comment')\n",
    "else:\n",
    "    print(f'{msg} is a position comment')"
   ]
  }
 ],
 "metadata": {
  "interpreter": {
   "hash": "66d20474a42c598064e4631ab4cf6e4658baa00707e682b325cee07a1775202e"
  },
  "kernelspec": {
   "display_name": "Python 3.9.7 64-bit ('basic_python': conda)",
   "language": "python",
   "name": "python3"
  },
  "language_info": {
   "codemirror_mode": {
    "name": "ipython",
    "version": 3
   },
   "file_extension": ".py",
   "mimetype": "text/x-python",
   "name": "python",
   "nbconvert_exporter": "python",
   "pygments_lexer": "ipython3",
   "version": "3.9.7"
  },
  "orig_nbformat": 4
 },
 "nbformat": 4,
 "nbformat_minor": 2
}
