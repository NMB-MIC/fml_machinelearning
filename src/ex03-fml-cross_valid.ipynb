{
 "cells": [
  {
   "cell_type": "code",
   "execution_count": 6,
   "metadata": {},
   "outputs": [],
   "source": [
    "#import tools\n",
    "from sklearn.datasets import load_digits\n",
    "from sklearn.model_selection import cross_val_predict\n",
    "from sklearn.tree import DecisionTreeClassifier\n",
    "from sklearn.metrics import accuracy_score,confusion_matrix,classification_report"
   ]
  },
  {
   "cell_type": "code",
   "execution_count": 7,
   "metadata": {},
   "outputs": [],
   "source": [
    "#load datasets\n",
    "\n",
    "datasets = load_digits()\n",
    "X,y = datasets.data,datasets.target"
   ]
  },
  {
   "cell_type": "code",
   "execution_count": 8,
   "metadata": {},
   "outputs": [],
   "source": [
    "#training\n",
    "clf = DecisionTreeClassifier()\n",
    "y_predict = cross_val_predict(clf,X,y,cv=10)"
   ]
  },
  {
   "cell_type": "code",
   "execution_count": 9,
   "metadata": {},
   "outputs": [
    {
     "name": "stdout",
     "output_type": "stream",
     "text": [
      "accuracy score: 0.8280467445742905\n",
      "\n",
      "confusion matrix:\n",
      " [[166   0   1   1   3   3   0   1   1   2]\n",
      " [  1 142   9   2   4   2   0   3   7  12]\n",
      " [  1   5 139   8   0   1   2   1  18   2]\n",
      " [  0   6   4 141   1   9   1   3   9   9]\n",
      " [  3  11   0   1 148   1   8   5   2   2]\n",
      " [  1   0   2   2   5 160   2   2   4   4]\n",
      " [  0   3   1   1   6   3 165   1   1   0]\n",
      " [  2   2   1   5   5   3   0 151   6   4]\n",
      " [  1   8  11   6   1   3   0   5 131   8]\n",
      " [  1   7   1   7   3   4   0   9   3 145]]\n",
      "\n",
      "classification report:\n",
      "               precision    recall  f1-score   support\n",
      "\n",
      "           0       0.94      0.93      0.94       178\n",
      "           1       0.77      0.78      0.78       182\n",
      "           2       0.82      0.79      0.80       177\n",
      "           3       0.81      0.77      0.79       183\n",
      "           4       0.84      0.82      0.83       181\n",
      "           5       0.85      0.88      0.86       182\n",
      "           6       0.93      0.91      0.92       181\n",
      "           7       0.83      0.84      0.84       179\n",
      "           8       0.72      0.75      0.74       174\n",
      "           9       0.77      0.81      0.79       180\n",
      "\n",
      "    accuracy                           0.83      1797\n",
      "   macro avg       0.83      0.83      0.83      1797\n",
      "weighted avg       0.83      0.83      0.83      1797\n",
      "\n"
     ]
    }
   ],
   "source": [
    "print(f'accuracy score: {accuracy_score(y,y_predict)}')\n",
    "print(f'\\nconfusion matrix:\\n {confusion_matrix(y,y_predict)}')\n",
    "print(f'\\nclassification report:\\n {classification_report(y,y_predict)}')"
   ]
  }
 ],
 "metadata": {
  "interpreter": {
   "hash": "66d20474a42c598064e4631ab4cf6e4658baa00707e682b325cee07a1775202e"
  },
  "kernelspec": {
   "display_name": "Python 3.9.7 64-bit ('basic_python': conda)",
   "language": "python",
   "name": "python3"
  },
  "language_info": {
   "codemirror_mode": {
    "name": "ipython",
    "version": 3
   },
   "file_extension": ".py",
   "mimetype": "text/x-python",
   "name": "python",
   "nbconvert_exporter": "python",
   "pygments_lexer": "ipython3",
   "version": "3.9.7"
  },
  "orig_nbformat": 4
 },
 "nbformat": 4,
 "nbformat_minor": 2
}
