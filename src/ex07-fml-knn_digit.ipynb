{
 "cells": [
  {
   "cell_type": "code",
   "execution_count": 1,
   "metadata": {},
   "outputs": [],
   "source": [
    "#import tools\n",
    "\n",
    "from sklearn.datasets import load_digits\n",
    "from sklearn.neighbors import  KNeighborsClassifier\n",
    "from sklearn.model_selection import cross_val_predict\n",
    "from sklearn.metrics import accuracy_score,confusion_matrix,classification_report\n"
   ]
  },
  {
   "cell_type": "code",
   "execution_count": 8,
   "metadata": {},
   "outputs": [
    {
     "name": "stdout",
     "output_type": "stream",
     "text": [
      "1797\n"
     ]
    }
   ],
   "source": [
    "# load datas\n",
    "\n",
    "datasets = load_digits()\n",
    "X,y = datasets.data,datasets.target\n",
    "\n",
    "print(len(X))"
   ]
  },
  {
   "cell_type": "code",
   "execution_count": 5,
   "metadata": {},
   "outputs": [],
   "source": [
    "clf = KNeighborsClassifier()\n",
    "y_predict = cross_val_predict(clf,X,y,cv=3)"
   ]
  },
  {
   "cell_type": "code",
   "execution_count": 6,
   "metadata": {},
   "outputs": [
    {
     "name": "stdout",
     "output_type": "stream",
     "text": [
      "accuracy score: 0.9627156371730662\n",
      "\n",
      "confusion matrix:\n",
      " [[177   0   0   0   1   0   0   0   0   0]\n",
      " [  0 178   0   0   2   0   0   0   0   2]\n",
      " [  1   2 167   1   0   0   0   1   5   0]\n",
      " [  0   0   1 176   0   1   0   3   1   1]\n",
      " [  0   2   0   0 176   0   0   2   1   0]\n",
      " [  0   0   0   0   0 177   1   0   0   4]\n",
      " [  0   2   0   0   0   1 178   0   0   0]\n",
      " [  0   0   0   0   0   0   0 179   0   0]\n",
      " [  0  11   1   2   0   0   1   1 157   1]\n",
      " [  0   3   0   3   1   3   0   2   3 165]]\n",
      "\n",
      "classification report:\n",
      "               precision    recall  f1-score   support\n",
      "\n",
      "           0       0.99      0.99      0.99       178\n",
      "           1       0.90      0.98      0.94       182\n",
      "           2       0.99      0.94      0.97       177\n",
      "           3       0.97      0.96      0.96       183\n",
      "           4       0.98      0.97      0.98       181\n",
      "           5       0.97      0.97      0.97       182\n",
      "           6       0.99      0.98      0.99       181\n",
      "           7       0.95      1.00      0.98       179\n",
      "           8       0.94      0.90      0.92       174\n",
      "           9       0.95      0.92      0.93       180\n",
      "\n",
      "    accuracy                           0.96      1797\n",
      "   macro avg       0.96      0.96      0.96      1797\n",
      "weighted avg       0.96      0.96      0.96      1797\n",
      "\n"
     ]
    }
   ],
   "source": [
    "#evaluate\n",
    "print(f'accuracy score: {accuracy_score(y,y_predict)}')\n",
    "print(f'\\nconfusion matrix:\\n {confusion_matrix(y,y_predict)}')\n",
    "print(f'\\nclassification report:\\n {classification_report(y,y_predict)}')"
   ]
  }
 ],
 "metadata": {
  "interpreter": {
   "hash": "66d20474a42c598064e4631ab4cf6e4658baa00707e682b325cee07a1775202e"
  },
  "kernelspec": {
   "display_name": "Python 3.9.7 64-bit ('basic_python': conda)",
   "language": "python",
   "name": "python3"
  },
  "language_info": {
   "codemirror_mode": {
    "name": "ipython",
    "version": 3
   },
   "file_extension": ".py",
   "mimetype": "text/x-python",
   "name": "python",
   "nbconvert_exporter": "python",
   "pygments_lexer": "ipython3",
   "version": "3.9.7"
  },
  "orig_nbformat": 4
 },
 "nbformat": 4,
 "nbformat_minor": 2
}
