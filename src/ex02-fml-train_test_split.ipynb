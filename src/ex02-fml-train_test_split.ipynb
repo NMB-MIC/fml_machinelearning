{
 "cells": [
  {
   "cell_type": "code",
   "execution_count": 91,
   "metadata": {},
   "outputs": [],
   "source": [
    "#train test split\n",
    "\n",
    "#import models\n",
    "from sklearn.datasets import load_digits\n",
    "from sklearn.model_selection import  train_test_split\n",
    "from sklearn.tree import DecisionTreeClassifier\n",
    "from sklearn.metrics import accuracy_score,confusion_matrix,classification_report\n"
   ]
  },
  {
   "cell_type": "code",
   "execution_count": 92,
   "metadata": {},
   "outputs": [
    {
     "name": "stdout",
     "output_type": "stream",
     "text": [
      ".. _digits_dataset:\n",
      "\n",
      "Optical recognition of handwritten digits dataset\n",
      "--------------------------------------------------\n",
      "\n",
      "**Data Set Characteristics:**\n",
      "\n",
      "    :Number of Instances: 1797\n",
      "    :Number of Attributes: 64\n",
      "    :Attribute Information: 8x8 image of integer pixels in the range 0..16.\n",
      "    :Missing Attribute Values: None\n",
      "    :Creator: E. Alpaydin (alpaydin '@' boun.edu.tr)\n",
      "    :Date: July; 1998\n",
      "\n",
      "This is a copy of the test set of the UCI ML hand-written digits datasets\n",
      "https://archive.ics.uci.edu/ml/datasets/Optical+Recognition+of+Handwritten+Digits\n",
      "\n",
      "The data set contains images of hand-written digits: 10 classes where\n",
      "each class refers to a digit.\n",
      "\n",
      "Preprocessing programs made available by NIST were used to extract\n",
      "normalized bitmaps of handwritten digits from a preprinted form. From a\n",
      "total of 43 people, 30 contributed to the training set and different 13\n",
      "to the test set. 32x32 bitmaps are divided into nonoverlapping blocks of\n",
      "4x4 and the number of on pixels are counted in each block. This generates\n",
      "an input matrix of 8x8 where each element is an integer in the range\n",
      "0..16. This reduces dimensionality and gives invariance to small\n",
      "distortions.\n",
      "\n",
      "For info on NIST preprocessing routines, see M. D. Garris, J. L. Blue, G.\n",
      "T. Candela, D. L. Dimmick, J. Geist, P. J. Grother, S. A. Janet, and C.\n",
      "L. Wilson, NIST Form-Based Handprint Recognition System, NISTIR 5469,\n",
      "1994.\n",
      "\n",
      ".. topic:: References\n",
      "\n",
      "  - C. Kaynak (1995) Methods of Combining Multiple Classifiers and Their\n",
      "    Applications to Handwritten Digit Recognition, MSc Thesis, Institute of\n",
      "    Graduate Studies in Science and Engineering, Bogazici University.\n",
      "  - E. Alpaydin, C. Kaynak (1998) Cascading Classifiers, Kybernetika.\n",
      "  - Ken Tang and Ponnuthurai N. Suganthan and Xi Yao and A. Kai Qin.\n",
      "    Linear dimensionalityreduction using relevance weighted LDA. School of\n",
      "    Electrical and Electronic Engineering Nanyang Technological University.\n",
      "    2005.\n",
      "  - Claudio Gentile. A New Approximate Maximal Margin Classification\n",
      "    Algorithm. NIPS. 2000.\n",
      "\n",
      "X count :1797\n",
      "y count :1797\n"
     ]
    }
   ],
   "source": [
    "datasets = load_digits()\n",
    "\n",
    "print(datasets.DESCR)\n",
    "\n",
    "X,y = datasets.data , datasets.target\n",
    "print(f'X count :{len(X)}')\n",
    "print(f'y count :{len(y)}')"
   ]
  },
  {
   "cell_type": "code",
   "execution_count": 93,
   "metadata": {},
   "outputs": [
    {
     "name": "stdout",
     "output_type": "stream",
     "text": [
      "X count :1797\n",
      "X_train count :1437\n",
      "X_test count :360\n"
     ]
    }
   ],
   "source": [
    "#split datas\n",
    "\n",
    "X_train,X_test, y_train,y_test = train_test_split(X,y,test_size=0.2,random_state=42)\n",
    "\n",
    "print(f'X count :{len(X)}')\n",
    "print(f'X_train count :{len(X_train)}')\n",
    "print(f'X_test count :{len(X_test)}')"
   ]
  },
  {
   "cell_type": "code",
   "execution_count": 94,
   "metadata": {},
   "outputs": [
    {
     "data": {
      "text/plain": [
       "DecisionTreeClassifier()"
      ]
     },
     "execution_count": 94,
     "metadata": {},
     "output_type": "execute_result"
    }
   ],
   "source": [
    "#train\n",
    "clf = DecisionTreeClassifier()\n",
    "clf.fit(X_train,y_train)"
   ]
  },
  {
   "cell_type": "code",
   "execution_count": 95,
   "metadata": {},
   "outputs": [
    {
     "name": "stdout",
     "output_type": "stream",
     "text": [
      "accuracy score: 0.8527777777777777\n",
      "\n",
      "confusion matrix:\n",
      " [[29  0  0  0  2  1  0  0  0  1]\n",
      " [ 0 21  1  0  3  0  0  1  1  1]\n",
      " [ 0  0 27  3  0  0  1  1  1  0]\n",
      " [ 0  0  1 30  0  0  0  0  3  0]\n",
      " [ 0  0  0  0 40  2  2  1  0  1]\n",
      " [ 0  0  0  0  1 45  0  0  1  0]\n",
      " [ 0  0  0  0  1  0 33  0  1  0]\n",
      " [ 0  0  0  2  2  0  0 29  0  1]\n",
      " [ 1  2  0  2  0  1  0  0 20  4]\n",
      " [ 0  1  0  2  0  0  0  4  0 33]]\n",
      "\n",
      "classification report:\n",
      "               precision    recall  f1-score   support\n",
      "\n",
      "           0       0.97      0.88      0.92        33\n",
      "           1       0.88      0.75      0.81        28\n",
      "           2       0.93      0.82      0.87        33\n",
      "           3       0.77      0.88      0.82        34\n",
      "           4       0.82      0.87      0.84        46\n",
      "           5       0.92      0.96      0.94        47\n",
      "           6       0.92      0.94      0.93        35\n",
      "           7       0.81      0.85      0.83        34\n",
      "           8       0.74      0.67      0.70        30\n",
      "           9       0.80      0.82      0.81        40\n",
      "\n",
      "    accuracy                           0.85       360\n",
      "   macro avg       0.85      0.84      0.85       360\n",
      "weighted avg       0.86      0.85      0.85       360\n",
      "\n"
     ]
    }
   ],
   "source": [
    "#evaluate\n",
    "y_predict = clf.predict(X_test)\n",
    "\n",
    "print(f'accuracy score: {accuracy_score(y_test,y_predict)}')\n",
    "print(f'\\nconfusion matrix:\\n {confusion_matrix(y_test,y_predict)}')\n",
    "print(f'\\nclassification report:\\n {classification_report(y_test,y_predict)}')"
   ]
  }
 ],
 "metadata": {
  "interpreter": {
   "hash": "66d20474a42c598064e4631ab4cf6e4658baa00707e682b325cee07a1775202e"
  },
  "kernelspec": {
   "display_name": "Python 3.9.7 64-bit ('basic_python': conda)",
   "language": "python",
   "name": "python3"
  },
  "language_info": {
   "codemirror_mode": {
    "name": "ipython",
    "version": 3
   },
   "file_extension": ".py",
   "mimetype": "text/x-python",
   "name": "python",
   "nbconvert_exporter": "python",
   "pygments_lexer": "ipython3",
   "version": "3.9.7"
  },
  "orig_nbformat": 4
 },
 "nbformat": 4,
 "nbformat_minor": 2
}
