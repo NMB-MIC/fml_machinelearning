{
 "cells": [
  {
   "cell_type": "code",
   "execution_count": 7,
   "metadata": {},
   "outputs": [],
   "source": [
    "#load tools\n",
    "\n",
    "from sklearn.datasets import  load_digits\n",
    "from sklearn.svm import LinearSVC\n",
    "from sklearn.model_selection import  cross_val_predict\n",
    "from sklearn.metrics import accuracy_score,confusion_matrix,classification_report\n"
   ]
  },
  {
   "cell_type": "code",
   "execution_count": 2,
   "metadata": {},
   "outputs": [],
   "source": [
    "#load data\n",
    "datasets = load_digits()\n",
    "X,y = datasets.data,datasets.target\n"
   ]
  },
  {
   "cell_type": "code",
   "execution_count": 9,
   "metadata": {},
   "outputs": [
    {
     "name": "stderr",
     "output_type": "stream",
     "text": [
      "C:\\Users\\lbj6639\\Miniconda3\\envs\\basic_python\\lib\\site-packages\\sklearn\\svm\\_base.py:1206: ConvergenceWarning: Liblinear failed to converge, increase the number of iterations.\n",
      "  warnings.warn(\n",
      "C:\\Users\\lbj6639\\Miniconda3\\envs\\basic_python\\lib\\site-packages\\sklearn\\svm\\_base.py:1206: ConvergenceWarning: Liblinear failed to converge, increase the number of iterations.\n",
      "  warnings.warn(\n",
      "C:\\Users\\lbj6639\\Miniconda3\\envs\\basic_python\\lib\\site-packages\\sklearn\\svm\\_base.py:1206: ConvergenceWarning: Liblinear failed to converge, increase the number of iterations.\n",
      "  warnings.warn(\n"
     ]
    }
   ],
   "source": [
    "clf = LinearSVC()\n",
    "y_predict = cross_val_predict(clf,X,y,cv=3)"
   ]
  },
  {
   "cell_type": "code",
   "execution_count": 10,
   "metadata": {},
   "outputs": [
    {
     "name": "stdout",
     "output_type": "stream",
     "text": [
      "accuracy score: 0.8920422927100723\n",
      "\n",
      "confusion matrix:\n",
      " [[175   0   0   0   1   1   1   0   0   0]\n",
      " [  0 144   1   8   0   1   2   0  20   6]\n",
      " [  1   9 156   3   0   0   0   0   4   4]\n",
      " [  0   1   2 161   0   4   0   2  11   2]\n",
      " [  1   6   0   3 166   0   1   1   0   3]\n",
      " [  0   2   1   1   1 169   2   0   2   4]\n",
      " [  0   1   1   0   1   2 172   0   4   0]\n",
      " [  4   0   0   3   3   5   0 158   3   3]\n",
      " [  0  14   2   3   2   2   1   0 150   0]\n",
      " [  2   3   3   4   0   3   0   3  10 152]]\n",
      "\n",
      "classification report:\n",
      "               precision    recall  f1-score   support\n",
      "\n",
      "           0       0.96      0.98      0.97       178\n",
      "           1       0.80      0.79      0.80       182\n",
      "           2       0.94      0.88      0.91       177\n",
      "           3       0.87      0.88      0.87       183\n",
      "           4       0.95      0.92      0.94       181\n",
      "           5       0.90      0.93      0.92       182\n",
      "           6       0.96      0.95      0.96       181\n",
      "           7       0.96      0.88      0.92       179\n",
      "           8       0.74      0.86      0.79       174\n",
      "           9       0.87      0.84      0.86       180\n",
      "\n",
      "    accuracy                           0.89      1797\n",
      "   macro avg       0.90      0.89      0.89      1797\n",
      "weighted avg       0.90      0.89      0.89      1797\n",
      "\n"
     ]
    }
   ],
   "source": [
    "#evaluate\n",
    "print(f'accuracy score: {accuracy_score(y,y_predict)}')\n",
    "print(f'\\nconfusion matrix:\\n {confusion_matrix(y,y_predict)}')\n",
    "print(f'\\nclassification report:\\n {classification_report(y,y_predict)}')"
   ]
  },
  {
   "cell_type": "code",
   "execution_count": null,
   "metadata": {},
   "outputs": [],
   "source": []
  }
 ],
 "metadata": {
  "interpreter": {
   "hash": "66d20474a42c598064e4631ab4cf6e4658baa00707e682b325cee07a1775202e"
  },
  "kernelspec": {
   "display_name": "Python 3.9.7 64-bit ('basic_python': conda)",
   "language": "python",
   "name": "python3"
  },
  "language_info": {
   "codemirror_mode": {
    "name": "ipython",
    "version": 3
   },
   "file_extension": ".py",
   "mimetype": "text/x-python",
   "name": "python",
   "nbconvert_exporter": "python",
   "pygments_lexer": "ipython3",
   "version": "3.9.7"
  },
  "orig_nbformat": 4
 },
 "nbformat": 4,
 "nbformat_minor": 2
}
