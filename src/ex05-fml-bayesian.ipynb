{
 "cells": [
  {
   "cell_type": "code",
   "execution_count": 81,
   "metadata": {},
   "outputs": [],
   "source": [
    "#import Tools \n",
    "\n",
    "from sklearn.datasets import load_iris\n",
    "import numpy as np\n",
    "import matplotlib.pyplot as plt\n",
    "from scipy.stats import norm\n",
    "import statistics\n",
    "\n",
    "from sklearn.model_selection import  cross_val_predict\n",
    "from sklearn.naive_bayes import GaussianNB ,MultinomialNB,BernoulliNB\n",
    "from sklearn.metrics import accuracy_score,classification_report,confusion_matrix"
   ]
  },
  {
   "cell_type": "code",
   "execution_count": 72,
   "metadata": {},
   "outputs": [
    {
     "name": "stdout",
     "output_type": "stream",
     "text": [
      "[5.1 4.9 4.7 4.6 5.  5.4 4.6 5.  4.4 4.9 5.4 4.8 4.8 4.3 5.8 5.7 5.4 5.1\n",
      " 5.7 5.1 5.4 5.1 4.6 5.1 4.8 5.  5.  5.2 5.2 4.7 4.8 5.4 5.2 5.5 4.9 5.\n",
      " 5.5 4.9 4.4 5.1 5.  4.5 4.4 5.  5.1 4.8 5.1 4.6 5.3 5.  7.  6.4 6.9 5.5\n",
      " 6.5 5.7 6.3 4.9 6.6 5.2 5.  5.9 6.  6.1 5.6 6.7 5.6 5.8 6.2 5.6 5.9 6.1\n",
      " 6.3 6.1 6.4 6.6 6.8 6.7 6.  5.7 5.5 5.5 5.8 6.  5.4 6.  6.7 6.3 5.6 5.5\n",
      " 5.5 6.1 5.8 5.  5.6 5.7 5.7 6.2 5.1 5.7 6.3 5.8 7.1 6.3 6.5 7.6 4.9 7.3\n",
      " 6.7 7.2 6.5 6.4 6.8 5.7 5.8 6.4 6.5 7.7 7.7 6.  6.9 5.6 7.7 6.3 6.7 7.2\n",
      " 6.2 6.1 6.4 7.2 7.4 7.9 6.4 6.3 6.1 7.7 6.3 6.4 6.  6.9 6.7 6.9 5.8 6.8\n",
      " 6.7 6.7 6.3 6.5 6.2 5.9]\n"
     ]
    }
   ],
   "source": [
    "#load datasets\n",
    "X, y = load_iris(return_X_y=True)\n",
    "\n",
    "# print(X.shape)\n",
    "# print(X)\n",
    "\n",
    "X_t = np.transpose(X)\n",
    "print(X_t[0])\n"
   ]
  },
  {
   "cell_type": "code",
   "execution_count": 79,
   "metadata": {},
   "outputs": [
    {
     "name": "stdout",
     "output_type": "stream",
     "text": [
      "1.1993333333333334\n",
      "0.7622376689603465\n"
     ]
    },
    {
     "data": {
      "image/png": "[encoded data removed]",
      "text/plain": [
       "<Figure size 432x288 with 1 Axes>"
      ]
     },
     "metadata": {
      "needs_background": "light"
     },
     "output_type": "display_data"
    }
   ],
   "source": [
    "#check normal distribution\n",
    "mean = statistics.mean(X_t[3]) #0,1,2,3\n",
    "sd = statistics.stdev(X_t[3])\n",
    "\n",
    "print(mean) \n",
    "print(sd)   \n",
    "plt.scatter(X_t[3], norm.pdf(X_t[3], mean, sd))\n",
    "plt.show()"
   ]
  },
  {
   "cell_type": "code",
   "execution_count": 90,
   "metadata": {},
   "outputs": [],
   "source": [
    "#Evaluate\n",
    "gnb = GaussianNB() #GaussianNB, MultinomialNB ,BernoulliNB\n",
    "y_predict = cross_val_predict(gnb,X,y,cv=3)\n"
   ]
  },
  {
   "cell_type": "code",
   "execution_count": 92,
   "metadata": {},
   "outputs": [
    {
     "name": "stdout",
     "output_type": "stream",
     "text": [
      "accuracy score: 0.94\n",
      "\n",
      "confusion matrix:\n",
      " [[50  0  0]\n",
      " [ 0 45  5]\n",
      " [ 0  4 46]]\n",
      "\n",
      "classification report:\n",
      "               precision    recall  f1-score   support\n",
      "\n",
      "           0       1.00      1.00      1.00        50\n",
      "           1       0.92      0.90      0.91        50\n",
      "           2       0.90      0.92      0.91        50\n",
      "\n",
      "    accuracy                           0.94       150\n",
      "   macro avg       0.94      0.94      0.94       150\n",
      "weighted avg       0.94      0.94      0.94       150\n",
      "\n"
     ]
    }
   ],
   "source": [
    "\n",
    "\n",
    "print(f'accuracy score: {accuracy_score(y,y_predict)}')\n",
    "print(f'\\nconfusion matrix:\\n {confusion_matrix(y,y_predict)}')\n",
    "print(f'\\nclassification report:\\n {classification_report(y,y_predict)}')"
   ]
  },
  {
   "cell_type": "code",
   "execution_count": 108,
   "metadata": {},
   "outputs": [
    {
     "name": "stdout",
     "output_type": "stream",
     "text": [
      "[[1.00000000e+00 1.35784265e-18 7.11283512e-26]]\n"
     ]
    }
   ],
   "source": [
    "#prop\n",
    "\n",
    "gnb.fit(X,y)\n",
    "prob = gnb.predict_proba([[5.1, 3.5 ,1.4 ,0.2],])\n",
    "\n",
    "print(prob)"
   ]
  }
 ],
 "metadata": {
  "interpreter": {
   "hash": "66d20474a42c598064e4631ab4cf6e4658baa00707e682b325cee07a1775202e"
  },
  "kernelspec": {
   "display_name": "Python 3.9.7 64-bit ('basic_python': conda)",
   "language": "python",
   "name": "python3"
  },
  "language_info": {
   "codemirror_mode": {
    "name": "ipython",
    "version": 3
   },
   "file_extension": ".py",
   "mimetype": "text/x-python",
   "name": "python",
   "nbconvert_exporter": "python",
   "pygments_lexer": "ipython3",
   "version": "3.9.7"
  },
  "orig_nbformat": 4
 },
 "nbformat": 4,
 "nbformat_minor": 2
}
